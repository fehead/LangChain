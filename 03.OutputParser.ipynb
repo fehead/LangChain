{
 "cells": [
  {
   "cell_type": "code",
   "execution_count": 1,
   "id": "d9083663",
   "metadata": {},
   "outputs": [
    {
     "data": {
      "text/plain": [
       "AIMessage(content='\"게임\"은 주로 오락이나 여가를 목적으로 하는 활동으로, 규칙에 따라 진행되며 참가자들이 경쟁하거나 협력하는 형태로 이루어집니다. 게임은 다양한 형식으로 존재하며, 비디오 게임, 보드 게임, 카드 게임 등이 포함됩니다. \\n\\n게임은 즐거움을 주고, 스트레스를 해소하며, 인지 능력을 향상시키는 데 도움을 줄 수 있습니다. 또한 사회적 상호작용을 촉진하고, 팀워크와 전략적 사고를 기를 수 있는 기회를 제공합니다. 현대 사회에서는 온라인 게임이나 모바일 게임이 인기를 끌고 있어, 많은 사람들이 전 세계의 다른 플레이어와 연결되어 함께 게임을 즐기기도 합니다.', additional_kwargs={'refusal': None}, response_metadata={'token_usage': {'completion_tokens': 158, 'prompt_tokens': 18, 'total_tokens': 176, 'completion_tokens_details': {'accepted_prediction_tokens': 0, 'audio_tokens': 0, 'reasoning_tokens': 0, 'rejected_prediction_tokens': 0}, 'prompt_tokens_details': {'audio_tokens': 0, 'cached_tokens': 0}}, 'model_name': 'gpt-4o-mini-2024-07-18', 'system_fingerprint': 'fp_dbaca60df0', 'finish_reason': 'stop', 'logprobs': None}, id='run-de2b790b-c6fc-4be2-89d6-2ed952be21ac-0', usage_metadata={'input_tokens': 18, 'output_tokens': 158, 'total_tokens': 176, 'input_token_details': {'audio': 0, 'cache_read': 0}, 'output_token_details': {'audio': 0, 'reasoning': 0}})"
      ]
     },
     "execution_count": 1,
     "metadata": {},
     "output_type": "execute_result"
    }
   ],
   "source": [
    "from langchain_openai import ChatOpenAI\n",
    "from langchain_core.prompts import PromptTemplate\n",
    "\n",
    "llm = ChatOpenAI(model=\"gpt-4o-mini\")\n",
    "\n",
    "prompt = PromptTemplate.from_template(\"입력한 단어를 설명하시오 : {word}\")\n",
    "\n",
    "chain = prompt | llm\n",
    "\n",
    "chain.invoke({\n",
    "        \"word\" : \"게임\"\n",
    "})\n"
   ]
  },
  {
   "cell_type": "code",
   "execution_count": 2,
   "id": "698c8137",
   "metadata": {},
   "outputs": [
    {
     "data": {
      "text/plain": [
       "'게임은 일반적으로 규칙에 따라 진행되는 활동으로, 주로 오락과 즐거움을 목적으로 합니다. 게임은 다양한 형식으로 존재하며, 보드 게임, 비디오 게임, 카드 게임, 스포츠 등 여러 종류가 있습니다. 보통 참가자들이 목표를 달성하거나 다른 참가자와 경쟁하는 방식으로 진행되며, 전략, 스킬, 운 등이 중요한 요소로 작용합니다. 게임은 혼자 또는 여러 사람과 함께 즐길 수 있으며, 사회적 상호작용이나 협력을 통한 경험을 제공하기도 합니다.'"
      ]
     },
     "execution_count": 2,
     "metadata": {},
     "output_type": "execute_result"
    }
   ],
   "source": [
    "from langchain_core.output_parsers import StrOutputParser\n",
    "\n",
    "parser = StrOutputParser()\n",
    "\n",
    "chain = prompt | llm | parser\n",
    "\n",
    "r = chain.invoke({\n",
    "        \"word\" : \"게임\"\n",
    "})\n",
    "\n",
    "r\n"
   ]
  },
  {
   "cell_type": "code",
   "execution_count": 3,
   "id": "ca5800c4",
   "metadata": {},
   "outputs": [
    {
     "data": {
      "text/plain": [
       "'Return a JSON object.'"
      ]
     },
     "execution_count": 3,
     "metadata": {},
     "output_type": "execute_result"
    }
   ],
   "source": [
    "from langchain_core.output_parsers import JsonOutputParser\n",
    "\n",
    "parser = JsonOutputParser()\n",
    "parser.get_format_instructions()"
   ]
  },
  {
   "cell_type": "code",
   "execution_count": 9,
   "id": "7cb7ef3a",
   "metadata": {},
   "outputs": [
    {
     "data": {
      "text/plain": [
       "{'related_words': ['비디오 게임',\n",
       "  '게임 개발',\n",
       "  '인터랙티브',\n",
       "  '플랫폼',\n",
       "  '멀티플레이어',\n",
       "  '그래픽',\n",
       "  '모바일 게임',\n",
       "  '게이머',\n",
       "  '게임 엔진',\n",
       "  'VR 게임',\n",
       "  '게임 디자인',\n",
       "  '클라우드 게임']}"
      ]
     },
     "execution_count": 9,
     "metadata": {},
     "output_type": "execute_result"
    }
   ],
   "source": [
    "from langchain_core.prompts import PromptTemplate\n",
    "\n",
    "prompt = PromptTemplate(template=\"\"\"\n",
    "        입력된 단어와 관련 있는 단어를 알려주세요.\n",
    "        - 제약사항 : {format_instructions}\n",
    "        - 입력단어 : {word}\n",
    "\"\"\",\n",
    "input_variables = [\"word\"],\n",
    "partial_variables = {\"format_instructions\" : parser.get_format_instructions()}\n",
    ")\n",
    "\n",
    "chain = prompt | llm | parser\n",
    "chain.invoke({\"word\": \"컴퓨터 게임\"})"
   ]
  },
  {
   "cell_type": "code",
   "execution_count": null,
   "id": "14c5ebb2",
   "metadata": {},
   "outputs": [],
   "source": []
  }
 ],
 "metadata": {
  "kernelspec": {
   "display_name": "env",
   "language": "python",
   "name": "python3"
  },
  "language_info": {
   "codemirror_mode": {
    "name": "ipython",
    "version": 3
   },
   "file_extension": ".py",
   "mimetype": "text/x-python",
   "name": "python",
   "nbconvert_exporter": "python",
   "pygments_lexer": "ipython3",
   "version": "3.11.9"
  }
 },
 "nbformat": 4,
 "nbformat_minor": 5
}
