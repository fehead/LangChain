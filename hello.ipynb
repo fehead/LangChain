{
 "cells": [
  {
   "cell_type": "code",
   "execution_count": null,
   "id": "7d8cd437",
   "metadata": {
    "vscode": {
     "languageId": "plaintext"
    }
   },
   "outputs": [],
   "source": [
    "print('hello jupyter')"
   ]
  }
 ],
 "metadata": {
  "language_info": {
   "name": "python"
  }
 },
 "nbformat": 4,
 "nbformat_minor": 5
}
