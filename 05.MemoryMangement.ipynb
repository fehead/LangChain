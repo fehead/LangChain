{
 "cells": [
  {
   "cell_type": "code",
   "execution_count": 1,
   "id": "d5508ff4",
   "metadata": {},
   "outputs": [],
   "source": [
    "from langchain_openai import ChatOpenAI\n",
    "from langchain_core.messages import HumanMessage, AIMessage, SystemMessage, trim_messages\n",
    "\n",
    "llm = ChatOpenAI(model=\"gpt-4o-mini\")\n",
    "\n",
    "messages = [\n",
    "        SystemMessage(content=\"System\"),\n",
    "        HumanMessage(content=\"Human1\"),\n",
    "        AIMessage(content=\"AI1\"),\n",
    "        HumanMessage(content=\"Human2\"),\n",
    "        AIMessage(content=\"AI2\"),\n",
    "        HumanMessage(content=\"Human3\"),\n",
    "        AIMessage(content=\"AI3\")\n",
    "]"
   ]
  },
  {
   "cell_type": "code",
   "execution_count": 2,
   "id": "6712cfb1",
   "metadata": {},
   "outputs": [
    {
     "data": {
      "text/plain": [
       "[SystemMessage(content='System', additional_kwargs={}, response_metadata={}),\n",
       " HumanMessage(content='Human1', additional_kwargs={}, response_metadata={}),\n",
       " AIMessage(content='AI1', additional_kwargs={}, response_metadata={}),\n",
       " HumanMessage(content='Human2', additional_kwargs={}, response_metadata={}),\n",
       " AIMessage(content='AI2', additional_kwargs={}, response_metadata={}),\n",
       " HumanMessage(content='Human3', additional_kwargs={}, response_metadata={}),\n",
       " AIMessage(content='AI3', additional_kwargs={}, response_metadata={})]"
      ]
     },
     "execution_count": 2,
     "metadata": {},
     "output_type": "execute_result"
    }
   ],
   "source": [
    "trimer = trim_messages(\n",
    "        max_tokens=1000,\n",
    "        token_counter = llm,\n",
    ")\n",
    "\n",
    "trimer.invoke(messages)"
   ]
  },
  {
   "cell_type": "code",
   "execution_count": null,
   "id": "e60b98e7",
   "metadata": {},
   "outputs": [],
   "source": []
  },
  {
   "cell_type": "code",
   "execution_count": null,
   "id": "8813af33",
   "metadata": {},
   "outputs": [],
   "source": []
  },
  {
   "cell_type": "code",
   "execution_count": 7,
   "id": "4235c1e0",
   "metadata": {},
   "outputs": [
    {
     "data": {
      "text/plain": [
       "[SystemMessage(content='System', additional_kwargs={}, response_metadata={}),\n",
       " HumanMessage(content='Human3', additional_kwargs={}, response_metadata={}),\n",
       " AIMessage(content='AI3', additional_kwargs={}, response_metadata={})]"
      ]
     },
     "execution_count": 7,
     "metadata": {},
     "output_type": "execute_result"
    }
   ],
   "source": [
    "trimer = trim_messages(\n",
    "        max_tokens=30,\n",
    "        token_counter = llm,\n",
    "        strategy = \"last\",\n",
    "        include_system=True,\n",
    "        start_on=\"human\"\n",
    ")\n",
    "\n",
    "trimer.invoke(messages)"
   ]
  }
 ],
 "metadata": {
  "kernelspec": {
   "display_name": "env",
   "language": "python",
   "name": "python3"
  },
  "language_info": {
   "codemirror_mode": {
    "name": "ipython",
    "version": 3
   },
   "file_extension": ".py",
   "mimetype": "text/x-python",
   "name": "python",
   "nbconvert_exporter": "python",
   "pygments_lexer": "ipython3",
   "version": "3.11.9"
  }
 },
 "nbformat": 4,
 "nbformat_minor": 5
}
