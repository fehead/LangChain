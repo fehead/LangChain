{
 "cells": [
  {
   "cell_type": "code",
   "execution_count": 1,
   "id": "dedbf3cd",
   "metadata": {},
   "outputs": [],
   "source": [
    "from langchain_openai import ChatOpenAI\n",
    "from langchain_core.output_parsers import StrOutputParser\n",
    "\n",
    "llm = ChatOpenAI(model=\"gpt-4o-mini\")\n",
    "parser = StrOutputParser()\n",
    "\n",
    "chain = llm | parser"
   ]
  },
  {
   "cell_type": "code",
   "execution_count": 3,
   "id": "5beffaae",
   "metadata": {},
   "outputs": [],
   "source": [
    "from langchain_core.chat_history import InMemoryChatMessageHistory, BaseChatMessageHistory\n",
    "from langchain_core.runnables.history import RunnableWithMessageHistory\n",
    "\n",
    "store = {}\n",
    "\n",
    "def get_message_history(session_id: str) -> BaseChatMessageHistory:\n",
    "        if session_id not in store:\n",
    "                store[session_id] = InMemoryChatMessageHistory()\n",
    "        return store[session_id]\n",
    "\n",
    "with_message_history = RunnableWithMessageHistory(\n",
    "        chain,\n",
    "        get_message_history\n",
    ")\n",
    "\n",
    "config = {\n",
    "        \"configurable\" : {\n",
    "                \"session_id\" : \"chat\"\n",
    "        }\n",
    "}\n"
   ]
  },
  {
   "cell_type": "code",
   "execution_count": 4,
   "id": "78912773",
   "metadata": {},
   "outputs": [],
   "source": [
    "from langchain_core.messages import HumanMessage, AIMessage, SystemMessage\n",
    "\n",
    "messages = [\n",
    "        SystemMessage(content=\"사용자의 질문에 2문장 이내로 짧게 대답해\"),\n",
    "        HumanMessage(content=\"오늘은 피자를 먹어야지!\"),\n",
    "        AIMessage(content=\"정말 좋은 생각이야. 음료수를 무엇으로 할거야?\"),\n",
    "        HumanMessage(content=\"내일은 수영을 가야지!\"),\n",
    "        AIMessage(content=\"수영이라니 정말 좋은 운동이야. 수영장은 어디로 다녀?\"),\n",
    "        HumanMessage(content=\"주말에는 영화를 보러 갈거야!\"),\n",
    "        AIMessage(content=\"주말이 벌써부터 기다려지는걸? 보려고 하는 영화가 있어?\")\n",
    "]"
   ]
  },
  {
   "cell_type": "code",
   "execution_count": null,
   "id": "e1b42091",
   "metadata": {},
   "outputs": [],
   "source": [
    "with_message_history.invoke(\n",
    "        messages + [HumanMessage(content=\"주말에 내가 뭐하러 간다고 했지?\")],\n",
    "        config=config\n",
    ")"
   ]
  }
 ],
 "metadata": {
  "kernelspec": {
   "display_name": "env",
   "language": "python",
   "name": "python3"
  },
  "language_info": {
   "codemirror_mode": {
    "name": "ipython",
    "version": 3
   },
   "file_extension": ".py",
   "mimetype": "text/x-python",
   "name": "python",
   "nbconvert_exporter": "python",
   "pygments_lexer": "ipython3",
   "version": "3.11.9"
  }
 },
 "nbformat": 4,
 "nbformat_minor": 5
}
