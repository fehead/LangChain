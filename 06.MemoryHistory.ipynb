{
 "cells": [
  {
   "cell_type": "code",
   "execution_count": 2,
   "id": "dedbf3cd",
   "metadata": {},
   "outputs": [],
   "source": [
    "from langchain_openai import ChatOpenAI\n",
    "from langchain_core.output_parsers import StrOutputParser\n",
    "\n",
    "llm = ChatOpenAI(model=\"gpt-4o-mini\")\n",
    "parser = StrOutputParser()\n",
    "\n",
    "chain = llm | parser"
   ]
  },
  {
   "cell_type": "code",
   "execution_count": 8,
   "id": "5beffaae",
   "metadata": {},
   "outputs": [],
   "source": [
    "from langchain_core.chat_history import InMemoryChatMessageHistory, BaseChatMessageHistory\n",
    "from langchain_core.runnables.history import RunnableWithMessageHistory\n",
    "\n",
    "store = {}\n",
    "\n",
    "def get_message_history(session_id: str) -> BaseChatMessageHistory:\n",
    "        if session_id not in store:\n",
    "                store[session_id] = InMemoryChatMessageHistory()\n",
    "        return store[session_id]\n",
    "\n",
    "with_message_history = RunnableWithMessageHistory(\n",
    "        chain,\n",
    "        get_message_history\n",
    ")\n",
    "\n",
    "config = {\n",
    "        \"configurable\" : {\n",
    "                \"session_id\" : \"chat\"\n",
    "        }\n",
    "}\n"
   ]
  },
  {
   "cell_type": "code",
   "execution_count": 7,
   "id": "78912773",
   "metadata": {},
   "outputs": [],
   "source": [
    "from langchain_core.messages import HumanMessage, AIMessage, SystemMessage\n",
    "\n",
    "messages = [\n",
    "        SystemMessage(content=\"사용자의 질문에 2문장 이내로 짧게 대답해\"),\n",
    "        HumanMessage(content=\"오늘은 피자를 먹어야지!\"),\n",
    "        AIMessage(content=\"정말 좋은 생각이야. 음료수를 무엇으로 할거야?\"),\n",
    "        HumanMessage(content=\"내일은 수영을 가야지!\"),\n",
    "        AIMessage(content=\"수영이라니 정말 좋은 운동이야. 수영장은 어디로 다녀?\"),\n",
    "        HumanMessage(content=\"주말에는 영화를 보러 갈거야!\"),\n",
    "        AIMessage(content=\"주말이 벌써부터 기다려지는걸? 보려고 하는 영화가 있어?\")\n",
    "]"
   ]
  },
  {
   "cell_type": "code",
   "execution_count": 9,
   "id": "e1b42091",
   "metadata": {},
   "outputs": [
    {
     "data": {
      "text/plain": [
       "'주말에 영화를 보러 간다고 했어! 어떤 영화를 볼 계획이야?'"
      ]
     },
     "execution_count": 9,
     "metadata": {},
     "output_type": "execute_result"
    }
   ],
   "source": [
    "with_message_history.invoke(\n",
    "        messages + [HumanMessage(content=\"주말에 내가 뭐하러 간다고 했지?\")],\n",
    "        config=config\n",
    ")"
   ]
  },
  {
   "cell_type": "code",
   "execution_count": 6,
   "id": "d7ab2587",
   "metadata": {},
   "outputs": [
    {
     "data": {
      "text/plain": [
       "'주말에 뭐하러 간다고 했는지 물어봤어.'"
      ]
     },
     "execution_count": 6,
     "metadata": {},
     "output_type": "execute_result"
    }
   ],
   "source": [
    "with_message_history.invoke(\n",
    "        [HumanMessage(content=\"내가 방금 무슨 질문을 했지?\")],\n",
    "        config=config\n",
    ")"
   ]
  },
  {
   "cell_type": "code",
   "execution_count": 1,
   "id": "f64d2e01",
   "metadata": {},
   "outputs": [],
   "source": [
    "import langchain\n",
    "langchain.debug = False"
   ]
  },
  {
   "cell_type": "code",
   "execution_count": 8,
   "id": "06872999",
   "metadata": {},
   "outputs": [
    {
     "name": "stdout",
     "output_type": "stream",
     "text": [
      "\u001b[32;1m\u001b[1;3m[chain/start]\u001b[0m \u001b[1m[chain:RunnableWithMessageHistory] Entering Chain run with input:\n",
      "\u001b[0m[inputs]\n",
      "\u001b[32;1m\u001b[1;3m[chain/start]\u001b[0m \u001b[1m[chain:RunnableWithMessageHistory > chain:load_history] Entering Chain run with input:\n",
      "\u001b[0m[inputs]\n",
      "\u001b[36;1m\u001b[1;3m[chain/end]\u001b[0m \u001b[1m[chain:RunnableWithMessageHistory > chain:load_history] [2ms] Exiting Chain run with output:\n",
      "\u001b[0m[outputs]\n",
      "\u001b[32;1m\u001b[1;3m[chain/start]\u001b[0m \u001b[1m[chain:RunnableWithMessageHistory > chain:check_sync_or_async] Entering Chain run with input:\n",
      "\u001b[0m[inputs]\n",
      "\u001b[32;1m\u001b[1;3m[chain/start]\u001b[0m \u001b[1m[chain:RunnableWithMessageHistory > chain:check_sync_or_async > chain:RunnableSequence] Entering Chain run with input:\n",
      "\u001b[0m[inputs]\n",
      "\u001b[32;1m\u001b[1;3m[llm/start]\u001b[0m \u001b[1m[chain:RunnableWithMessageHistory > chain:check_sync_or_async > chain:RunnableSequence > llm:ChatOpenAI] Entering LLM run with input:\n",
      "\u001b[0m{\n",
      "  \"prompts\": [\n",
      "    \"System: 사용자의 질문에 2문장 이내로 짧게 대답해\\nHuman: 오늘은 피자를 먹어야지!\\nAI: 정말 좋은 생각이야. 음료수를 무엇으로 할거야?\\nHuman: 내일은 수영을 가야지!\\nAI: 수영이라니 정말 좋은 운동이야. 수영장은 어디로 다녀?\\nHuman: 주말에는 영화를 보러 갈거야!\\nAI: 주말이 벌써부터 기다려지는걸? 보려고 하는 영화가 있어?\\nHuman: 주말에 내가 뭐하러 간다고 했지?\\nAI: 주말에 영화를 보러 간다고 했어!\\nHuman: 내가 방금 무슨 질문을 했지?\\nAI: 주말에 뭐하러 간다고 했는지 물어봤어.\\nHuman: 내가 수영장에 언제간다고 했지?\"\n",
      "  ]\n",
      "}\n",
      "\u001b[36;1m\u001b[1;3m[llm/end]\u001b[0m \u001b[1m[chain:RunnableWithMessageHistory > chain:check_sync_or_async > chain:RunnableSequence > llm:ChatOpenAI] [789ms] Exiting LLM run with output:\n",
      "\u001b[0m{\n",
      "  \"generations\": [\n",
      "    [\n",
      "      {\n",
      "        \"text\": \"내일 수영을 간다고 했어!\",\n",
      "        \"generation_info\": {\n",
      "          \"finish_reason\": \"stop\",\n",
      "          \"logprobs\": null\n",
      "        },\n",
      "        \"type\": \"ChatGeneration\",\n",
      "        \"message\": {\n",
      "          \"lc\": 1,\n",
      "          \"type\": \"constructor\",\n",
      "          \"id\": [\n",
      "            \"langchain\",\n",
      "            \"schema\",\n",
      "            \"messages\",\n",
      "            \"AIMessage\"\n",
      "          ],\n",
      "          \"kwargs\": {\n",
      "            \"content\": \"내일 수영을 간다고 했어!\",\n",
      "            \"additional_kwargs\": {\n",
      "              \"refusal\": null\n",
      "            },\n",
      "            \"response_metadata\": {\n",
      "              \"token_usage\": {\n",
      "                \"completion_tokens\": 11,\n",
      "                \"prompt_tokens\": 213,\n",
      "                \"total_tokens\": 224,\n",
      "                \"completion_tokens_details\": {\n",
      "                  \"accepted_prediction_tokens\": 0,\n",
      "                  \"audio_tokens\": 0,\n",
      "                  \"reasoning_tokens\": 0,\n",
      "                  \"rejected_prediction_tokens\": 0\n",
      "                },\n",
      "                \"prompt_tokens_details\": {\n",
      "                  \"audio_tokens\": 0,\n",
      "                  \"cached_tokens\": 0\n",
      "                }\n",
      "              },\n",
      "              \"model_name\": \"gpt-4o-mini-2024-07-18\",\n",
      "              \"system_fingerprint\": \"fp_129a36352a\",\n",
      "              \"finish_reason\": \"stop\",\n",
      "              \"logprobs\": null\n",
      "            },\n",
      "            \"type\": \"ai\",\n",
      "            \"id\": \"run-2819d52a-4a82-401e-bfb6-aeff1067f3a2-0\",\n",
      "            \"usage_metadata\": {\n",
      "              \"input_tokens\": 213,\n",
      "              \"output_tokens\": 11,\n",
      "              \"total_tokens\": 224,\n",
      "              \"input_token_details\": {\n",
      "                \"audio\": 0,\n",
      "                \"cache_read\": 0\n",
      "              },\n",
      "              \"output_token_details\": {\n",
      "                \"audio\": 0,\n",
      "                \"reasoning\": 0\n",
      "              }\n",
      "            },\n",
      "            \"tool_calls\": [],\n",
      "            \"invalid_tool_calls\": []\n",
      "          }\n",
      "        }\n",
      "      }\n",
      "    ]\n",
      "  ],\n",
      "  \"llm_output\": {\n",
      "    \"token_usage\": {\n",
      "      \"completion_tokens\": 11,\n",
      "      \"prompt_tokens\": 213,\n",
      "      \"total_tokens\": 224,\n",
      "      \"completion_tokens_details\": {\n",
      "        \"accepted_prediction_tokens\": 0,\n",
      "        \"audio_tokens\": 0,\n",
      "        \"reasoning_tokens\": 0,\n",
      "        \"rejected_prediction_tokens\": 0\n",
      "      },\n",
      "      \"prompt_tokens_details\": {\n",
      "        \"audio_tokens\": 0,\n",
      "        \"cached_tokens\": 0\n",
      "      }\n",
      "    },\n",
      "    \"model_name\": \"gpt-4o-mini-2024-07-18\",\n",
      "    \"system_fingerprint\": \"fp_129a36352a\"\n",
      "  },\n",
      "  \"run\": null,\n",
      "  \"type\": \"LLMResult\"\n",
      "}\n",
      "\u001b[32;1m\u001b[1;3m[chain/start]\u001b[0m \u001b[1m[chain:RunnableWithMessageHistory > chain:check_sync_or_async > chain:RunnableSequence > parser:StrOutputParser] Entering Parser run with input:\n",
      "\u001b[0m[inputs]\n",
      "\u001b[36;1m\u001b[1;3m[chain/end]\u001b[0m \u001b[1m[chain:RunnableWithMessageHistory > chain:check_sync_or_async > chain:RunnableSequence > parser:StrOutputParser] [2ms] Exiting Parser run with output:\n",
      "\u001b[0m{\n",
      "  \"output\": \"내일 수영을 간다고 했어!\"\n",
      "}\n",
      "\u001b[36;1m\u001b[1;3m[chain/end]\u001b[0m \u001b[1m[chain:RunnableWithMessageHistory > chain:check_sync_or_async > chain:RunnableSequence] [795ms] Exiting Chain run with output:\n",
      "\u001b[0m{\n",
      "  \"output\": \"내일 수영을 간다고 했어!\"\n",
      "}\n",
      "\u001b[36;1m\u001b[1;3m[chain/end]\u001b[0m \u001b[1m[chain:RunnableWithMessageHistory > chain:check_sync_or_async] [799ms] Exiting Chain run with output:\n",
      "\u001b[0m{\n",
      "  \"output\": \"내일 수영을 간다고 했어!\"\n",
      "}\n",
      "\u001b[36;1m\u001b[1;3m[chain/end]\u001b[0m \u001b[1m[chain:RunnableWithMessageHistory] [805ms] Exiting Chain run with output:\n",
      "\u001b[0m{\n",
      "  \"output\": \"내일 수영을 간다고 했어!\"\n",
      "}\n"
     ]
    },
    {
     "data": {
      "text/plain": [
       "'내일 수영을 간다고 했어!'"
      ]
     },
     "execution_count": 8,
     "metadata": {},
     "output_type": "execute_result"
    }
   ],
   "source": [
    "with_message_history.invoke(\n",
    "        [HumanMessage(content=\"내가 수영장에 언제간다고 했지?\")],\n",
    "        config=config\n",
    ")"
   ]
  },
  {
   "cell_type": "code",
   "execution_count": 10,
   "id": "d874aa6e",
   "metadata": {},
   "outputs": [
    {
     "data": {
      "text/plain": [
       "'스케이트 타러 가는 거 정말 재밌겠네요! 어떤 스타일의 스케이트를 탈 예정이신가요? 아이스 스케이트인가요, 아니면 롤러 스케이트인가요? 안전하게 즐기고 좋은 시간 보내세요!'"
      ]
     },
     "execution_count": 10,
     "metadata": {},
     "output_type": "execute_result"
    }
   ],
   "source": [
    "config_01 = {\n",
    "        \"configurable\" : {\n",
    "                \"session_id\" : \"chat_01\"\n",
    "        }\n",
    "}\n",
    "\n",
    "with_message_history.invoke(\n",
    "        [HumanMessage(content=\"내일은 스케이트를 타러가야지.\")],\n",
    "        config=config_01)"
   ]
  },
  {
   "cell_type": "code",
   "execution_count": 11,
   "id": "9467abf1",
   "metadata": {},
   "outputs": [
    {
     "data": {
      "text/plain": [
       "'내일 스케이트를 타러 간다고 하셨죠! 어떤 스케이트를 탈지 계획하고 계셨나요? 즐거운 시간 되세요!'"
      ]
     },
     "execution_count": 11,
     "metadata": {},
     "output_type": "execute_result"
    }
   ],
   "source": [
    "with_message_history.invoke(\n",
    "        [HumanMessage(content=\"내일 뭐하러 간다고 했지?\")],\n",
    "        config=config_01\n",
    ")"
   ]
  },
  {
   "cell_type": "code",
   "execution_count": 12,
   "id": "9167e919",
   "metadata": {},
   "outputs": [
    {
     "data": {
      "text/plain": [
       "'죄송하지만, 저는 당신의 개인 일정을 알 수 없습니다. 내일 어떤 일정이 있는지 메모를 확인하거나 캘린더를 보시면 좋겠습니다. 도움이 필요하시면 말씀해 주세요!'"
      ]
     },
     "execution_count": 12,
     "metadata": {},
     "output_type": "execute_result"
    }
   ],
   "source": [
    "config_02 = {\n",
    "        \"configurable\" : {\n",
    "                \"session_id\" : \"chat_02\"\n",
    "        }\n",
    "}\n",
    "\n",
    "with_message_history.invoke(\n",
    "        [HumanMessage(content=\"내일 뭐하러 간다고 했지?\")],\n",
    "        config=config_02)"
   ]
  },
  {
   "cell_type": "code",
   "execution_count": 13,
   "id": "9751fd5e",
   "metadata": {},
   "outputs": [
    {
     "data": {
      "text/plain": [
       "'내일 스케이트를 타러 간다고 하셨습니다! 즐거운 시간 보내세요!'"
      ]
     },
     "execution_count": 13,
     "metadata": {},
     "output_type": "execute_result"
    }
   ],
   "source": [
    "with_message_history.invoke(\n",
    "        [HumanMessage(content=\"내일 뭐하러 간다고 했지?\")],\n",
    "        config=config_01\n",
    ")"
   ]
  }
 ],
 "metadata": {
  "kernelspec": {
   "display_name": "env",
   "language": "python",
   "name": "python3"
  },
  "language_info": {
   "codemirror_mode": {
    "name": "ipython",
    "version": 3
   },
   "file_extension": ".py",
   "mimetype": "text/x-python",
   "name": "python",
   "nbconvert_exporter": "python",
   "pygments_lexer": "ipython3",
   "version": "3.11.9"
  }
 },
 "nbformat": 4,
 "nbformat_minor": 5
}
