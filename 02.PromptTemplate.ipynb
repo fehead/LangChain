{
 "cells": [
  {
   "cell_type": "code",
   "execution_count": 1,
   "id": "652d6c20",
   "metadata": {},
   "outputs": [],
   "source": [
    "from langchain_core.prompts import PromptTemplate\n",
    "\n",
    "template = \"\"\"\n",
    "다음 문장을 {language}로 번역해.\n",
    "---\n",
    "{text}\n",
    "\"\"\"\n",
    "\n",
    "prpompt_template = PromptTemplate(\n",
    "        input_variables= [\"language\", \"text\"],\n",
    "        template = template\n",
    ")"
   ]
  },
  {
   "cell_type": "code",
   "execution_count": 2,
   "id": "3f86e7fe",
   "metadata": {},
   "outputs": [
    {
     "data": {
      "text/plain": [
       "'\\n다음 문장을 영어로 번역해.\\n---\\n내일은 핸드폰 배터리를 교환해야지.\\n'"
      ]
     },
     "execution_count": 2,
     "metadata": {},
     "output_type": "execute_result"
    }
   ],
   "source": [
    "prompt = prpompt_template.format(language=\"영어\", text=\"내일은 핸드폰 배터리를 교환해야지.\")\n",
    "prompt"
   ]
  },
  {
   "cell_type": "code",
   "execution_count": 3,
   "id": "85e800d3",
   "metadata": {},
   "outputs": [
    {
     "data": {
      "text/plain": [
       "'System: 사용자가 입력한 문장을 중국어로 번역해줘.\\nHuman: 오늘은 컴퓨터 아나토미 책을 봐야지.'"
      ]
     },
     "execution_count": 3,
     "metadata": {},
     "output_type": "execute_result"
    }
   ],
   "source": [
    "from langchain_core.prompts import ChatPromptTemplate\n",
    "\n",
    "prompt_template = ChatPromptTemplate.from_messages(\n",
    "        [\n",
    "               (\"system\", \"사용자가 입력한 문장을 {language}로 번역해줘.\")\n",
    "                ,(\"human\", \"{text}\")\n",
    "        ]\n",
    ")\n",
    "\n",
    "prompt = prompt_template.format(language=\"중국어\", text=\"오늘은 컴퓨터 아나토미 책을 봐야지.\")\n",
    "prompt"
   ]
  },
  {
   "cell_type": "code",
   "execution_count": 5,
   "id": "3e6bda78",
   "metadata": {},
   "outputs": [
    {
     "data": {
      "text/plain": [
       "'私は昨日自転車を修理しました。'"
      ]
     },
     "execution_count": 5,
     "metadata": {},
     "output_type": "execute_result"
    }
   ],
   "source": [
    "from langchain_openai import ChatOpenAI\n",
    "from langchain_core.output_parsers import StrOutputParser\n",
    "\n",
    "llm = ChatOpenAI(model=\"gpt-4o-mini\")\n",
    "parser = StrOutputParser()\n",
    "\n",
    "chain = prompt_template | llm | parser\n",
    "chain.invoke(\n",
    "        {\"language\" : \"일본어\",\n",
    "        \"text\" : \"나는 어제 자전거를 고쳤습니다.\"\n",
    "        }\n",
    ")"
   ]
  },
  {
   "cell_type": "code",
   "execution_count": 6,
   "id": "80c62b75",
   "metadata": {},
   "outputs": [
    {
     "data": {
      "text/plain": [
       "'I fixed my bike yesterday.'"
      ]
     },
     "execution_count": 6,
     "metadata": {},
     "output_type": "execute_result"
    }
   ],
   "source": [
    "chain.invoke(\n",
    "        {\"language\" : \"영어\",\n",
    "        \"text\" : \"나는 어제 자전거를 고쳤습니다.\"\n",
    "        }\n",
    ")"
   ]
  },
  {
   "cell_type": "code",
   "execution_count": 7,
   "id": "3cd00dfe",
   "metadata": {},
   "outputs": [
    {
     "data": {
      "text/plain": [
       "\"J'ai réparé mon vélo hier.\""
      ]
     },
     "execution_count": 7,
     "metadata": {},
     "output_type": "execute_result"
    }
   ],
   "source": [
    "chain.invoke(\n",
    "        {\"language\" : \"불어\",\n",
    "        \"text\" : \"나는 어제 자전거를 고쳤습니다.\"\n",
    "        }\n",
    ")"
   ]
  }
 ],
 "metadata": {
  "kernelspec": {
   "display_name": "env",
   "language": "python",
   "name": "python3"
  },
  "language_info": {
   "codemirror_mode": {
    "name": "ipython",
    "version": 3
   },
   "file_extension": ".py",
   "mimetype": "text/x-python",
   "name": "python",
   "nbconvert_exporter": "python",
   "pygments_lexer": "ipython3",
   "version": "3.11.9"
  }
 },
 "nbformat": 4,
 "nbformat_minor": 5
}
